{
 "cells": [
  {
   "cell_type": "markdown",
   "id": "c8353d83",
   "metadata": {},
   "source": [
    "# Generar la Base de Datos desde Python\n",
    "* Crear la Base de Datos\n",
    "* Crear las Tablas de la Base de Datos\n",
    "* Precargar las Tablas\n",
    "* Visualizar las cargas realizadas"
   ]
  },
  {
   "cell_type": "code",
   "execution_count": 63,
   "id": "a16105af",
   "metadata": {},
   "outputs": [],
   "source": [
    "import sqlite3\n",
    "import os.path as path\n",
    "\n",
    "base_name= \"Cafe_DataBase3\"\n",
    "\n",
    "#Se verifica si la Base de Datos ya existe, asumiendo que de ser así ya contiene una tabla; de lo contrario, se crea la Base de Datos\n",
    "#al realizar la conexión, y se crea la tabla.\n",
    "if path.exists(base_name):\n",
    "    conexion= sqlite3.connect(base_name)    #Se crea una conexión y por lo tanto la Base de Datos como tal\n",
    "    cursor= conexion.cursor()\n",
    "else:\n",
    "    conexion= sqlite3.connect(base_name)    #Se crea una conexión y por lo tanto la Base de Datos como tal\n",
    "    cursor= conexion.cursor()\n",
    "    \n",
    "    #Se crea tabla de registro de tareas\n",
    "    cursor.execute('''\n",
    "    CREATE TABLE REGISTRO_TAREAS(\n",
    "    ID_TAREA INTEGER PRIMARY KEY AUTOINCREMENT,\n",
    "    FECHA DATETIME,\n",
    "    TAREA VARCHAR(100),\n",
    "    ID_SUB_GRUPO INTEGER,\n",
    "    H_INICIO FLOAT,\n",
    "    H_FIN FLOAT,\n",
    "    REALIZADA INTEGER,\n",
    "    COMENTARIOS VARCHAR(100))\n",
    "    ''')\n",
    "    \n",
    "    #cursor.execute(\"SET DATEFORMAT DMY\")\n",
    "    \n",
    "    #Se crea tabla de Sub-Grupo de agrupación de Tareas\n",
    "    cursor.execute('''\n",
    "    CREATE TABLE SUB_GRUPOS_TAREAS(\n",
    "    ID_SUB_GRUPO VARCHAR(3) PRIMARY KEY,\n",
    "    SUB_GRUPO VARCHAR(50),\n",
    "    ID_GRUPO INTEGER)\n",
    "    ''')\n",
    "    \n",
    "    #Se crea tabla de Grupo de agrupación de Tareas\n",
    "    cursor.execute('''\n",
    "    CREATE TABLE GRUPOS_TAREAS(\n",
    "    ID_GRUPO VARCHAR(3) PRIMARY KEY,\n",
    "    GRUPO VARCHAR(50) UNIQUE)\n",
    "    ''')"
   ]
  },
  {
   "cell_type": "code",
   "execution_count": 64,
   "id": "46e88c32",
   "metadata": {},
   "outputs": [
    {
     "data": {
      "text/plain": [
       "<sqlite3.Cursor at 0x1d90238bc00>"
      ]
     },
     "execution_count": 64,
     "metadata": {},
     "output_type": "execute_result"
    }
   ],
   "source": [
    "#Llenar tabla de Grupos de Tareas\n",
    "grupos= [('G01', 'Ejercicio Espiritual'), ('G02','Programación'), ('G03','Guitarra'), ('G04','Armónica'), ('G05','Lectura'), ('G06','Ejercicio Físico'), ('G07','Administración y Gestión')]\n",
    "\n",
    "#for i in range(len(grupos)): \n",
    "#    cursor.execute(\"INSERT INTO GRUPOS_TAREAS VALUES (\" + grupos[i] + \")\")\n",
    "\n",
    "cursor.executemany(\"INSERT INTO GRUPOS_TAREAS VALUES (?,?)\", grupos)"
   ]
  },
  {
   "cell_type": "code",
   "execution_count": 18,
   "id": "b64527f1",
   "metadata": {},
   "outputs": [
    {
     "data": {
      "text/plain": [
       "<sqlite3.Cursor at 0x1d901c96c70>"
      ]
     },
     "execution_count": 18,
     "metadata": {},
     "output_type": "execute_result"
    }
   ],
   "source": [
    "#cursor.execute(\"INSERT INTO GRUPOS_TAREAS VALUES('G01', 'Ejercicio Espiritual')\")"
   ]
  },
  {
   "cell_type": "code",
   "execution_count": 65,
   "id": "1712800d",
   "metadata": {},
   "outputs": [
    {
     "data": {
      "text/plain": [
       "[('G01', 'Ejercicio Espiritual'),\n",
       " ('G02', 'Programación'),\n",
       " ('G03', 'Guitarra'),\n",
       " ('G04', 'Armónica'),\n",
       " ('G05', 'Lectura'),\n",
       " ('G06', 'Ejercicio Físico'),\n",
       " ('G07', 'Administración y Gestión')]"
      ]
     },
     "execution_count": 65,
     "metadata": {},
     "output_type": "execute_result"
    }
   ],
   "source": [
    "#cursor.execute(\"DELETE FROM GRUPOS_TAREAS\")\n",
    "cursor.execute(\"SELECT * FROM GRUPOS_TAREAS\")\n",
    "tab_grupos= cursor.fetchall()\n",
    "tab_grupos"
   ]
  },
  {
   "cell_type": "code",
   "execution_count": 66,
   "id": "e7b37db7",
   "metadata": {},
   "outputs": [
    {
     "data": {
      "text/plain": [
       "<sqlite3.Cursor at 0x1d90238bc00>"
      ]
     },
     "execution_count": 66,
     "metadata": {},
     "output_type": "execute_result"
    }
   ],
   "source": [
    "#Llenar tabla de Sub-Grupos de Tareas: ID_sub_grupo, sub_grupo, ID_grupo\n",
    "sub_grupos= [\n",
    "    ('S10','Oración','G01'), ('S11','Lectura de la Biblia','G01'), ('S12','Ayuno','G01'), ('S13','Estudio Bíblico','G01'),\n",
    "    ('S20', 'Data Science & Machine Learning','G02'), ('S21', 'Data Analitics','G02'), ('S22', 'SQL','G02'), ('S23', 'Otros Programas','G02'),\n",
    "    ('S30','Practicar Guitarra','G03'), ('S31','Configurar Guitarra o Efectos','G03'),\n",
    "    ('S40','Practicar Armónica','G04'), \n",
    "    ('S50','Leer un Libro','G05'), \n",
    "    ('S60','Hacer Ejercicio','G06'), ('S61','Practicar un Deporte','G06'),\n",
    "    ('S70','Orden y Limpieza','G07'), ('S71','Administración Económica','G07'), ('S72','Gestión de Proyectos','G07')\n",
    "]\n",
    "\n",
    "cursor.executemany(\"INSERT INTO SUB_GRUPOS_TAREAS VALUES (?,?,?)\", sub_grupos)"
   ]
  },
  {
   "cell_type": "code",
   "execution_count": 67,
   "id": "fdce7bdd",
   "metadata": {},
   "outputs": [
    {
     "data": {
      "text/plain": [
       "[('S10', 'Oración', 'G01'),\n",
       " ('S11', 'Lectura de la Biblia', 'G01'),\n",
       " ('S12', 'Ayuno', 'G01'),\n",
       " ('S13', 'Estudio Bíblico', 'G01'),\n",
       " ('S20', 'Data Science & Machine Learning', 'G02'),\n",
       " ('S21', 'Data Analitics', 'G02'),\n",
       " ('S22', 'SQL', 'G02'),\n",
       " ('S23', 'Otros Programas', 'G02'),\n",
       " ('S30', 'Practicar Guitarra', 'G03'),\n",
       " ('S31', 'Configurar Guitarra o Efectos', 'G03'),\n",
       " ('S40', 'Practicar Armónica', 'G04'),\n",
       " ('S50', 'Leer un Libro', 'G05'),\n",
       " ('S60', 'Hacer Ejercicio', 'G06'),\n",
       " ('S61', 'Practicar un Deporte', 'G06'),\n",
       " ('S70', 'Orden y Limpieza', 'G07'),\n",
       " ('S71', 'Administración Económica', 'G07'),\n",
       " ('S72', 'Gestión de Proyectos', 'G07')]"
      ]
     },
     "execution_count": 67,
     "metadata": {},
     "output_type": "execute_result"
    }
   ],
   "source": [
    "#cursor.execute(\"DELETE FROM SUB_GRUPOS_TAREAS\")\n",
    "cursor.execute(\"SELECT * FROM SUB_GRUPOS_TAREAS\")\n",
    "tab_sub_grupos= cursor.fetchall()\n",
    "tab_sub_grupos"
   ]
  },
  {
   "cell_type": "code",
   "execution_count": 68,
   "id": "9784e85a",
   "metadata": {},
   "outputs": [],
   "source": [
    "conexion.commit()\n",
    "conexion.close()"
   ]
  }
 ],
 "metadata": {
  "kernelspec": {
   "display_name": "Python 3",
   "language": "python",
   "name": "python3"
  },
  "language_info": {
   "codemirror_mode": {
    "name": "ipython",
    "version": 3
   },
   "file_extension": ".py",
   "mimetype": "text/x-python",
   "name": "python",
   "nbconvert_exporter": "python",
   "pygments_lexer": "ipython3",
   "version": "3.8.10"
  }
 },
 "nbformat": 4,
 "nbformat_minor": 5
}
