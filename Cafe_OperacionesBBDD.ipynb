{
 "cells": [
  {
   "cell_type": "markdown",
   "id": "11e24d01",
   "metadata": {},
   "source": [
    "# Operaciones Sobre la Base de Datos desde Python\n",
    "* **C**reate\n",
    "* **R**ead\n",
    "* **U**pdate\n",
    "* **D**elete"
   ]
  },
  {
   "cell_type": "code",
   "execution_count": 21,
   "id": "2aa3ef07",
   "metadata": {},
   "outputs": [],
   "source": [
    "import sqlite3\n",
    "import os.path as path\n",
    "\n",
    "base_name= \"Cafe_DataBase3\"\n",
    "\n",
    "\n",
    "conexion= sqlite3.connect(base_name)    #Se crea una conexión y por lo tanto la Base de Datos como tal\n",
    "cursor= conexion.cursor()"
   ]
  },
  {
   "cell_type": "markdown",
   "id": "221cbc8f",
   "metadata": {},
   "source": [
    "## Insert"
   ]
  },
  {
   "cell_type": "code",
   "execution_count": 22,
   "id": "0b52c342",
   "metadata": {},
   "outputs": [
    {
     "ename": "OperationalError",
     "evalue": "database is locked",
     "output_type": "error",
     "traceback": [
      "\u001b[1;31m---------------------------------------------------------------------------\u001b[0m",
      "\u001b[1;31mOperationalError\u001b[0m                          Traceback (most recent call last)",
      "\u001b[1;32m<ipython-input-22-78b33d5b029f>\u001b[0m in \u001b[0;36m<module>\u001b[1;34m\u001b[0m\n\u001b[1;32m----> 1\u001b[1;33m \u001b[0mcursor\u001b[0m\u001b[1;33m.\u001b[0m\u001b[0mexecute\u001b[0m\u001b[1;33m(\u001b[0m\u001b[1;34m\"INSERT INTO GRUPOS_TAREAS VALUES ('G08', 'Para Borrar')\"\u001b[0m\u001b[1;33m)\u001b[0m\u001b[1;33m\u001b[0m\u001b[1;33m\u001b[0m\u001b[0m\n\u001b[0m\u001b[0;32m      2\u001b[0m \u001b[1;33m\u001b[0m\u001b[0m\n\u001b[0;32m      3\u001b[0m \u001b[0mcursor\u001b[0m\u001b[1;33m.\u001b[0m\u001b[0mexecute\u001b[0m\u001b[1;33m(\u001b[0m\u001b[1;34m\"SELECT * FROM GRUPOS_TAREAS WHERE ID_GRUPO= 'G08'\"\u001b[0m\u001b[1;33m)\u001b[0m\u001b[1;33m\u001b[0m\u001b[1;33m\u001b[0m\u001b[0m\n\u001b[0;32m      4\u001b[0m \u001b[0mgrupo\u001b[0m\u001b[1;33m=\u001b[0m \u001b[0mcursor\u001b[0m\u001b[1;33m.\u001b[0m\u001b[0mfetchall\u001b[0m\u001b[1;33m(\u001b[0m\u001b[1;33m)\u001b[0m\u001b[1;33m\u001b[0m\u001b[1;33m\u001b[0m\u001b[0m\n\u001b[0;32m      5\u001b[0m \u001b[0mgrupo\u001b[0m\u001b[1;33m\u001b[0m\u001b[1;33m\u001b[0m\u001b[0m\n",
      "\u001b[1;31mOperationalError\u001b[0m: database is locked"
     ]
    }
   ],
   "source": [
    "cursor.execute(\"INSERT INTO GRUPOS_TAREAS VALUES ('G08', 'Para Borrar')\")\n",
    "\n",
    "cursor.execute(\"SELECT * FROM GRUPOS_TAREAS WHERE ID_GRUPO= 'G08'\")\n",
    "grupo= cursor.fetchall()\n",
    "grupo"
   ]
  },
  {
   "cell_type": "markdown",
   "id": "40b94813",
   "metadata": {},
   "source": [
    "## Read"
   ]
  },
  {
   "cell_type": "code",
   "execution_count": 23,
   "id": "efd64c83",
   "metadata": {},
   "outputs": [
    {
     "data": {
      "text/plain": [
       "[('S20', 'Data Science & Machine Learning', 'G02'),\n",
       " ('S21', 'Data Analitics', 'G02'),\n",
       " ('S22', 'SQL', 'G02'),\n",
       " ('S23', 'Otros Programas', 'G02')]"
      ]
     },
     "execution_count": 23,
     "metadata": {},
     "output_type": "execute_result"
    }
   ],
   "source": [
    "#Solicitar los Sub-Grupos que corresponden al grupo G02-Programación\n",
    "cursor.execute(\"SELECT * FROM SUB_GRUPOS_TAREAS WHERE ID_GRUPO='G02'\")\n",
    "sub_grupos= cursor.fetchall()\n",
    "sub_grupos"
   ]
  },
  {
   "cell_type": "code",
   "execution_count": null,
   "id": "95cb5043",
   "metadata": {},
   "outputs": [],
   "source": [
    "cursor.execute(\"SELECT SUB_GRUPO FROM SUB_GRUPOS_TAREAS WHERE ID_GRUPO='G01'\")\n",
    "sub_grupos= cursor.fetchall()\n",
    "sub_grupos"
   ]
  },
  {
   "cell_type": "code",
   "execution_count": null,
   "id": "d806048d",
   "metadata": {},
   "outputs": [],
   "source": [
    "cursor.execute(\"SELECT * FROM GRUPOS_TAREAS\")\n",
    "grupos= cursor.fetchall()\n",
    "grupos"
   ]
  },
  {
   "cell_type": "markdown",
   "id": "f488f745",
   "metadata": {},
   "source": [
    "## Update"
   ]
  },
  {
   "cell_type": "code",
   "execution_count": null,
   "id": "ad8021bd",
   "metadata": {},
   "outputs": [],
   "source": [
    "#Cambiar el Sub-Grupo de tareas S72-\"Gestión de Proyectos\" por \"Gestión de Proyectos Personales\".\n",
    "cursor.execute(\"UPDATE SUB_GRUPOS_TAREAS SET SUB_GRUPO='Gestión de Proyectos Personales' WHERE ID_SUB_GRUPO='S72'\")"
   ]
  },
  {
   "cell_type": "code",
   "execution_count": null,
   "id": "8d1f89e3",
   "metadata": {},
   "outputs": [],
   "source": [
    "cursor.execute(\"SELECT * FROM SUB_GRUPOS_TAREAS\")\n",
    "sub_grupos= cursor.fetchall()\n",
    "sub_grupos"
   ]
  },
  {
   "cell_type": "markdown",
   "id": "6904e8e6",
   "metadata": {},
   "source": [
    "## Delete"
   ]
  },
  {
   "cell_type": "code",
   "execution_count": null,
   "id": "fc81f11c",
   "metadata": {},
   "outputs": [],
   "source": [
    "cursor.execute(\"DELETE FROM GRUPOS_TAREAS WHERE GRUPO='Para Borrar'\")\n",
    "\n",
    "cursor.execute(\"SELECT * FROM GRUPOS_TAREAS\")\n",
    "grupos= cursor.fetchall()\n",
    "grupos"
   ]
  },
  {
   "cell_type": "code",
   "execution_count": 20,
   "id": "887c7ed0",
   "metadata": {},
   "outputs": [],
   "source": [
    "conexion.commit()\n",
    "conexion.close()"
   ]
  }
 ],
 "metadata": {
  "kernelspec": {
   "display_name": "Python 3",
   "language": "python",
   "name": "python3"
  },
  "language_info": {
   "codemirror_mode": {
    "name": "ipython",
    "version": 3
   },
   "file_extension": ".py",
   "mimetype": "text/x-python",
   "name": "python",
   "nbconvert_exporter": "python",
   "pygments_lexer": "ipython3",
   "version": "3.8.10"
  }
 },
 "nbformat": 4,
 "nbformat_minor": 5
}
